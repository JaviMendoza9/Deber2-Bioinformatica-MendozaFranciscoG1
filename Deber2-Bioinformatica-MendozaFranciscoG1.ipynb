{
 "cells": [
  {
   "cell_type": "markdown",
   "id": "d74ad6a5-3dbe-4a2b-9813-6919e36552d1",
   "metadata": {},
   "source": [
    "<img src=\"https://www.ikiam.edu.ec/img/logo-ikiam-grey.png\" width=300 height=240 />\n",
    "\n",
    "# Deber Map of Science\n",
    "\n",
    "## GBI6-2021II: BIOINFORMÁTICA\n",
    "\n",
    "**Mendoza Poraño, Francisco Javier**\n",
    "\n",
    "**17/2/2022**\n",
    "\n",
    "## T5_Mapa de Ciencia\n",
    "\n",
    "### Basado en las sesiones de Visualización de datos y Expresiones resulares. Realice una adaptación de la solución del MAP OF SCIENCE. Se requiere dos adaptaciones para resolver esta actividad:\n",
    "\n",
    "* Buscar bibliografía de un tema de interés propio en la Página Web de PubMed,\n",
    "\n",
    "* Realizar el minado de autores por país (en el ejemplo se encuentra realziado por las ciudades de USA). Para asignar las ubicación geográfica de los centroides de cada país (latitud y longitud), utilice la tabla  Ubicación Geográfica de Países - Google Developer. Así como en la solución de referencia se señalan varias ciudades seleccionadas de USA, en su resolución señale/resalte a los siguientes países: USA, UK, Brazil, China, Australia, Norway.  \n",
    "\n",
    "### Cargue su cuaderno de Jupyter en GitHub, asegurandose de lo siguiente:\n",
    "\n",
    "* en el documento se puede ver con claridad el Mapa de Ciencia de su tema de interés.\n",
    "\n",
    "* la figura tiene etiquetas adecuadas en los ejes de la visualización. \n",
    "\n",
    "* se tiene al menos tres controles de la versión (3 commit con mensajes adecuados sobre la versión)"
   ]
  },
  {
   "cell_type": "code",
   "execution_count": 9,
   "id": "aebb2f5e-1855-49cc-b984-c9e3579db7b7",
   "metadata": {},
   "outputs": [],
   "source": [
    "#Se declaran las biblioteca de los modulos de las clases usadas para abrir, leer las coordenas y graficar\n",
    "import re\n",
    "import csv\n",
    "import matplotlib.pyplot as plt\n",
    "\n",
    "#Se abre el archivo de busqueda en el sitio PubMed\n",
    "#Link de la busqueda: https://pubmed.ncbi.nlm.nih.gov/?term=toxin+venom+scorpion\n",
    "#Para ello el documento de usan todas los resultados sin restricciones, sinedo 5092\n",
    "with open(\"pubmed-toxinvenom-set.txt\", encoding=\"utf8\") as f:\n",
    "    my_text1 = f.read()\n",
    "len(my_text1) \n",
    "#Se cambian los saltos de lienas por un documento seguido\n",
    "my_text2 = re.sub(r'\\n\\s{6}', ' ', my_text1)\n",
    "\n",
    "#Declaracion de los patrones de busqueda\n",
    "#Acaban en pais de un termino\n",
    "paises0 = re.findall(r'^AD |\\,\\s(\\w*)\\.\\n', my_text2)\n",
    "#Acaban en pais de un termino con ciudad y 2 numeros antes\n",
    "paises1 = re.findall(r'^AD |\\,\\s\\w{5}\\-\\d{3}\\,\\s\\w*\\s\\w*\\,\\s\\w{2}\\,\\s(\\w{3,20})\\.\\n', my_text2)\n",
    "#Acaban en pais de ciudades con varios terminos y 2 numeros antes\n",
    "paises2 = re.findall(r'^AD |\\,\\s\\w{5}\\-\\d{3}\\,\\s\\w*\\s\\w*\\,\\s(\\w{3,20})\\.\\n', my_text2)\n",
    "#Acaban en pais de un termino con ciudad y 1 numeros antes\n",
    "paises3 = re.findall(r'^AD |\\,\\s\\d*\\,\\s\\w*\\,\\s(\\w*)\\.\\n', my_text2)\n",
    "#Acaban en pais de un termino con ciudad, correo con mensaje antes y 2 numeros antes\n",
    "paises4 = re.findall(r'^AD |\\,\\s\\w{5}\\-\\d{3}\\,\\s\\w*\\s\\w*\\,\\s\\w{2}\\,\\s(\\w{3,20})\\. Electronic address:', my_text2)\n",
    "#Acaban en pais de un termino con ciudad, correo con mensaje antes y sin numeros antes\n",
    "paises5 = re.findall(r'^AD |\\s\\w*\\,\\s\\w*\\s\\w*\\,\\s\\w{2}\\,\\s(\\w{3,20})\\. Electronic address:', my_text2)\n",
    "#Acaban en pais de un termino con ciudad, correo sin mensaje antes y 2 numeros antes\n",
    "paises6 = re.findall(r'^AD |\\,\\s(\\w*)\\.\\s[a-z0-9_\\.-]+@[\\da-z\\.-]+\\.[a-z\\.]{2,6}\\.\\n', my_text2)\n",
    "#Acaban en pais de dos terminos, con dos palabras alado\n",
    "paises7 = re.findall(r'^AD |\\w{3}\\s\\w{4}\\,\\s(\\w{3,20}\\s\\w{3,20})\\.\\n', my_text2)\n",
    "#Acaban en pais de dos terminos, con dos palabras alado y 1 numeros antes\n",
    "paises8 = re.findall(r'^AD |\\,\\s\\d*\\,\\s\\w{3}\\s\\w{4}\\,\\s(\\w{3,20}\\s\\w{3,20})\\.\\n', my_text2)\n",
    "#Acaban en pais de dos terminos, con ciudad y 2 numeros antes\n",
    "paises9 = re.findall(r'^AD |\\,\\s\\w{5}\\-\\d{3}\\,\\s\\w*\\s\\w*\\,\\s\\w{2}\\,\\s(\\w{3,20}\\s\\w{3,20})\\.\\n', my_text2)\n",
    "#Acaban en pais de dos terminos con ciudades con varios terminos y 2 numeros antes\n",
    "paises10 = re.findall(r'^AD |\\,\\s\\w{5}\\-\\d{3}\\,\\s\\w*\\s\\w*\\,\\s(\\w{3,20}\\s\\w{3,20})\\.\\n', my_text2)\n",
    "#Acaban en pais de dos terminos con ciudad y 1 numeros antes\n",
    "paises11 = re.findall(r'^AD |\\,\\s\\d*\\,\\s\\w*\\,\\s(\\w{3,20}\\s\\w{3,20})\\.\\n', my_text2)\n",
    "#Acaban en pais de dos terminos con ciudad, correo con mensaje antes y 2 numeros antes\n",
    "paises12 = re.findall(r'^AD |\\,\\s\\w{5}\\-\\d{3}\\,\\s\\w*\\s\\w*\\,\\s\\w{2}\\,\\s(\\w{3,20}\\s\\w{3,20})\\. Electronic address:', my_text2)\n",
    "#Acaban en pais de dos terminos con ciudad, correo con mensaje antes y sin numeros antes\n",
    "paises13 = re.findall(r'^AD |\\s\\w*\\,\\s\\w*\\s\\w*\\,\\s\\w{2}\\,\\s(\\w{3,20}\\s\\w{3,20})\\. Electronic address:', my_text2)\n",
    "#Acaban en pais de dos terminos con ciudad, correo sin mensaje antes y 2 numeros antes\n",
    "paises14 = re.findall(r'^AD |\\,\\s(\\w{3,20}\\s\\w{3,20})\\.\\s[a-z0-9_\\.-]+@[\\da-z\\.-]+\\.[a-z\\.]{2,6}\\.\\n', my_text2)\n",
    "#Acaban en pais con parentesus al final\n",
    "paises15 = re.findall(r'^AD |\\,\\s(\\w{3,20})\\s\\(\\w*\\.\\w*\\.\\)\\.\\n', my_text2)\n",
    "#Acaban en pais de un termino con digitos y letras alado\n",
    "paises16 = re.findall(r'^AD |\\,\\d*\\s\\w{4,20}\\,\\s(\\w{3,20})\\.\\n', my_text2)\n",
    "#Acaban en pais de un termino de letras y digitos alado\n",
    "paises17 = re.findall(r'^AD |\\,\\w{4,20}\\s\\d*\\,\\s(\\w{3,20})\\.\\n', my_text2)\n",
    "##Acaban en pais de un termino ISNI\n",
    "paises18 = re.findall(r'^AD |\\,\\d*\\s(\\w{3,20})\\. ISNI:\\d*', my_text2)\n",
    "\n",
    "#Debido a la inmensa cantidad de patrones solo se tomaron los mas importantes y se sumaron para crear una sola lista\n",
    "paisesT = paises0+ paises1 + paises2+ paises3+ paises4+ paises5+ paises6+ paises7+ paises8+ paises9+ paises10+ paises11+ paises12+ paises13+ paises14+ paises15+ paises16+ paises17+ paises18\n",
    "#print(paisesT)"
   ]
  },
  {
   "cell_type": "code",
   "execution_count": 14,
   "id": "8562a7af-0922-4447-b7ee-e818aea2b31c",
   "metadata": {},
   "outputs": [
    {
     "name": "stdout",
     "output_type": "stream",
     "text": [
      "['Australia', 'Australia', 'Mexico', 'Mexico', 'Mexico', 'Mexico', 'Mexico', 'Pakistan', 'Pakistan', 'Pakistan']\n"
     ]
    },
    {
     "data": {
      "text/plain": [
       "152"
      ]
     },
     "execution_count": 14,
     "metadata": {},
     "output_type": "execute_result"
    }
   ],
   "source": [
    "#Creacion y ordenamiento de la lista de paises, para posteriormente hacerlos unicos y contarlos en el ciclo if \n",
    "len(paisesT)\n",
    "print(paisesT[:10])\n",
    "unique_paisesT = list(set(paisesT))\n",
    "unique_paisesT.sort()\n",
    "unique_paisesT[:10]\n",
    "len(unique_paisesT)"
   ]
  },
  {
   "cell_type": "code",
   "execution_count": 15,
   "id": "ad395aa5-70cd-4c35-8085-0fc301dc05c3",
   "metadata": {},
   "outputs": [],
   "source": [
    "#Se crea el diccionario que alberge los datos de las coordenadas para su posterior evaluacion en un ciclo if\n",
    "DatosPaises = {}\n",
    "#Para esto se abre un nuevo documento de texto que alberga las coordenadas \n",
    "#Este proceso se hace con la clase csv\n",
    "with open('DatosPaises.txt') as f:\n",
    "    csvr = csv.DictReader(f)\n",
    "    for row in csvr:\n",
    "        DatosPaises[row['Name']] = [row['Latitude'], row['Longitude']]\n",
    "        #print(row['Country'], row['Latitude'], row['Longitude'], row['Name'])\n",
    "#print(DatosPaises)"
   ]
  },
  {
   "cell_type": "code",
   "execution_count": 19,
   "id": "3fd5195a-ff74-46ea-bff6-1c264830a2d6",
   "metadata": {},
   "outputs": [
    {
     "name": "stdout",
     "output_type": "stream",
     "text": [
      "Los paises son:  ['Algeria', 'Argentina', 'Armenia', 'Australia', 'Austria', 'Bangladesh', 'Belgium', 'Brazil', 'Canada', 'Chile', 'China', 'Colombia', 'Costa Rica', 'Cuba', 'Czech Republic', 'Denmark', 'Ecuador', 'Egypt', 'Finland', 'France', 'Germany', 'Ghana', 'Guyana', 'Hungary', 'India', 'Iran', 'Iraq', 'Ireland', 'Israel', 'Italy', 'Japan', 'Jordan', 'Kenya', 'Lebanon', 'Malaysia', 'Mexico', 'Morocco', 'Netherlands', 'Norway', 'Pakistan', 'Panama', 'Paraguay', 'Peru', 'Poland', 'Portugal', 'Qatar', 'Russia', 'Serbia', 'Singapore', 'South Africa', 'South Korea', 'Spain', 'Sri Lanka', 'Sweden', 'Switzerland', 'Taiwan', 'Thailand', 'Tunisia', 'Turkey', 'UK', 'USA', 'Ukraine', 'Uruguay', 'Venezuela', 'Vietnam']\n",
      "\n",
      "El valor del contador por país es:  [140, 36, 2, 255, 34, 1, 186, 987, 130, 28, 1728, 66, 16, 26, 1, 58, 12, 50, 2, 601, 215, 2, 2, 75, 150, 349, 13, 5, 88, 122, 301, 10, 3, 4, 2, 423, 121, 38, 3, 58, 7, 4, 10, 11, 35, 8, 295, 1, 16, 4, 1, 38, 1, 17, 20, 10, 55, 228, 55, 147, 891, 1, 2, 51, 14]\n",
      "\n",
      "La longitud de los países contados es:  [1.659626, -63.616672, 45.038189, 133.775136, 14.550072, 90.356331, 4.469936, -51.92528, -106.346771, -71.542969, 104.195397, -74.297333, -83.753428, -77.781167, 15.472962, 9.501785, -78.183406, 30.802498, 25.748151, 2.213749, 10.451526, -1.023194, -58.93018, 19.503304, 78.96288, 53.688046, 43.679291, -8.24389, 34.851612, 12.56738, 138.252924, 36.238414, 37.906193, 35.862285, 101.975766, -102.552784, -7.09262, 5.291266, 8.468946, 69.345116, -80.782127, -58.443832, -75.015152, 19.145136, -8.224454, 51.183884, 105.318756, 21.005859, 103.819836, 22.937506, 127.766922, -3.74922, 80.771797, 18.643501, 8.227512, 120.960515, 100.992541, 9.537499, 35.243322, -3.435973, -95.712891, 31.16558, -55.765835, -66.58973, 108.277199]\n",
      "\n",
      "La longitud de los países contados  es:  [28.033886, -38.416097, 40.069099, -25.274398, 47.516231, 23.684994, 50.503887, -14.235004, 56.130366, -35.675147, 35.86166, 4.570868, 9.748917, 21.521757, 49.817492, 56.26392, -1.831239, 26.820553, 61.92411, 46.227638, 51.165691, 7.946527, 4.860416, 47.162494, 20.593684, 32.427908, 33.223191, 53.41291, 31.046051, 41.87194, 36.204824, 30.585164, -0.023559, 33.854721, 4.210484, 23.634501, 31.791702, 52.132633, 60.472024, 30.375321, 8.537981, -23.442503, -9.189967, 51.919438, 39.399872, 25.354826, 61.52401, 44.016521, 1.352083, -30.559482, 35.907757, 40.463667, 7.873054, 60.128161, 46.818188, 23.69781, 15.870032, 33.886917, 38.963745, 55.378051, 37.09024, 48.379433, -32.522779, 6.42375, 14.058324]\n"
     ]
    }
   ],
   "source": [
    "#Esta parte ayuda a que se distribuyan los paises antes enlistados, esto se hace con un append y se los distribuye con su values y keys \n",
    "name = []\n",
    "longitude = []\n",
    "latitude = []\n",
    "count = []\n",
    "for z in unique_paisesT:\n",
    "    #print(z)\n",
    "    if z in DatosPaises.keys():\n",
    "        name.append(z)\n",
    "        latitude.append(float(DatosPaises[z][0]))\n",
    "        longitude.append(float(DatosPaises[z][1]))\n",
    "        count.append(paisesT.count(z))\n",
    "print(\"Los paises son: \", name)\n",
    "print(\"\\nEl valor del contador por país es: \", count)\n",
    "print(\"\\nLa longitud de los países contados es: \", longitude)\n",
    "print(\"\\nLa longitud de los países contados  es: \", latitude)"
   ]
  },
  {
   "cell_type": "code",
   "execution_count": null,
   "id": "98035b39-95ee-4780-869a-bf8ff4f28f9c",
   "metadata": {},
   "outputs": [],
   "source": []
  },
  {
   "cell_type": "code",
   "execution_count": null,
   "id": "d3cf965b-5efd-4ae8-ae51-215309483de9",
   "metadata": {},
   "outputs": [],
   "source": []
  }
 ],
 "metadata": {
  "kernelspec": {
   "display_name": "Python 3 (ipykernel)",
   "language": "python",
   "name": "python3"
  },
  "language_info": {
   "codemirror_mode": {
    "name": "ipython",
    "version": 3
   },
   "file_extension": ".py",
   "mimetype": "text/x-python",
   "name": "python",
   "nbconvert_exporter": "python",
   "pygments_lexer": "ipython3",
   "version": "3.9.7"
  }
 },
 "nbformat": 4,
 "nbformat_minor": 5
}
